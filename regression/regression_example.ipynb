{
 "cells": [
  {
   "cell_type": "code",
   "execution_count": 1,
   "metadata": {},
   "outputs": [
    {
     "name": "stderr",
     "output_type": "stream",
     "text": [
      "Using TensorFlow backend.\n"
     ]
    }
   ],
   "source": [
    "from keras.datasets import boston_housing\n",
    "from keras.models import Sequential\n",
    "from keras.layers import Dense"
   ]
  },
  {
   "cell_type": "markdown",
   "metadata": {},
   "source": [
    "# Загрузка набора данных"
   ]
  },
  {
   "cell_type": "code",
   "execution_count": 2,
   "metadata": {
    "collapsed": true
   },
   "outputs": [],
   "source": [
    "(x_train, y_train), (x_test, y_test) = boston_housing.load_data()"
   ]
  },
  {
   "cell_type": "markdown",
   "metadata": {},
   "source": [
    "# Нормализация данных\n",
    "\n",
    "Вычитаем среднее значение и делим на стандартное отклонение"
   ]
  },
  {
   "cell_type": "code",
   "execution_count": 3,
   "metadata": {
    "collapsed": true
   },
   "outputs": [],
   "source": [
    "# Среднее значение\n",
    "mean = x_train.mean(axis=0)\n",
    "# Стандартное отклонение\n",
    "std = x_train.std(axis=0)\n",
    "x_train -= mean\n",
    "x_train /= std\n",
    "x_test -= mean\n",
    "x_test /= std"
   ]
  },
  {
   "cell_type": "markdown",
   "metadata": {},
   "source": [
    "# Создаем сеть\n",
    "\n",
    "Выходной слой с одним линейным нейроном - для задачи регрессии функция активации не используется.\n",
    "\n",
    "Функция ошибки - среднеквадратичное отклонение.\n",
    "Метрика - среднее абсолютное отклонение."
   ]
  },
  {
   "cell_type": "code",
   "execution_count": 4,
   "metadata": {
    "collapsed": true
   },
   "outputs": [],
   "source": [
    "model = Sequential()\n",
    "model.add(Dense(128, activation='relu', input_shape=(x_train.shape[1],)))\n",
    "model.add(Dense(1))\n",
    "model.compile(optimizer='adam', loss='mse', metrics=['mae'])"
   ]
  },
  {
   "cell_type": "markdown",
   "metadata": {},
   "source": [
    "# Обучение сети"
   ]
  },
  {
   "cell_type": "code",
   "execution_count": 5,
   "metadata": {},
   "outputs": [
    {
     "name": "stdout",
     "output_type": "stream",
     "text": [
      "Epoch 1/100\n",
      "0s - loss: 328.4459 - mean_absolute_error: 15.3512\n",
      "Epoch 2/100\n",
      "0s - loss: 42.3367 - mean_absolute_error: 4.3108\n",
      "Epoch 3/100\n",
      "0s - loss: 26.9892 - mean_absolute_error: 3.5305\n",
      "Epoch 4/100\n",
      "0s - loss: 22.3399 - mean_absolute_error: 3.2823\n",
      "Epoch 5/100\n",
      "0s - loss: 19.3782 - mean_absolute_error: 3.1114\n",
      "Epoch 6/100\n",
      "0s - loss: 16.8289 - mean_absolute_error: 2.9217\n",
      "Epoch 7/100\n",
      "0s - loss: 15.1756 - mean_absolute_error: 2.7436\n",
      "Epoch 8/100\n",
      "0s - loss: 13.4165 - mean_absolute_error: 2.5625\n",
      "Epoch 9/100\n",
      "0s - loss: 11.7568 - mean_absolute_error: 2.4105\n",
      "Epoch 10/100\n",
      "0s - loss: 11.3646 - mean_absolute_error: 2.3861\n",
      "Epoch 11/100\n",
      "0s - loss: 10.8174 - mean_absolute_error: 2.2911\n",
      "Epoch 12/100\n",
      "0s - loss: 10.1602 - mean_absolute_error: 2.2138\n",
      "Epoch 13/100\n",
      "0s - loss: 9.6781 - mean_absolute_error: 2.1971\n",
      "Epoch 14/100\n",
      "0s - loss: 9.6289 - mean_absolute_error: 2.1634\n",
      "Epoch 15/100\n",
      "0s - loss: 9.3377 - mean_absolute_error: 2.1379\n",
      "Epoch 16/100\n",
      "0s - loss: 9.3788 - mean_absolute_error: 2.1485\n",
      "Epoch 17/100\n",
      "0s - loss: 8.9388 - mean_absolute_error: 2.1614\n",
      "Epoch 18/100\n",
      "0s - loss: 8.6091 - mean_absolute_error: 2.0274\n",
      "Epoch 19/100\n",
      "0s - loss: 8.5458 - mean_absolute_error: 2.0541\n",
      "Epoch 20/100\n",
      "0s - loss: 8.1926 - mean_absolute_error: 2.0229\n",
      "Epoch 21/100\n",
      "0s - loss: 8.1213 - mean_absolute_error: 2.0061\n",
      "Epoch 22/100\n",
      "0s - loss: 8.1589 - mean_absolute_error: 1.9910\n",
      "Epoch 23/100\n",
      "0s - loss: 8.0059 - mean_absolute_error: 2.0049\n",
      "Epoch 24/100\n",
      "0s - loss: 7.7848 - mean_absolute_error: 1.9475\n",
      "Epoch 25/100\n",
      "0s - loss: 7.7902 - mean_absolute_error: 1.9632\n",
      "Epoch 26/100\n",
      "0s - loss: 7.4283 - mean_absolute_error: 1.9092\n",
      "Epoch 27/100\n",
      "0s - loss: 7.4670 - mean_absolute_error: 1.9379\n",
      "Epoch 28/100\n",
      "0s - loss: 7.6297 - mean_absolute_error: 1.9351\n",
      "Epoch 29/100\n",
      "0s - loss: 7.3097 - mean_absolute_error: 1.9102\n",
      "Epoch 30/100\n",
      "0s - loss: 7.1048 - mean_absolute_error: 1.8711\n",
      "Epoch 31/100\n",
      "0s - loss: 7.4075 - mean_absolute_error: 1.9127\n",
      "Epoch 32/100\n",
      "0s - loss: 7.0695 - mean_absolute_error: 1.8739\n",
      "Epoch 33/100\n",
      "0s - loss: 6.8516 - mean_absolute_error: 1.8681\n",
      "Epoch 34/100\n",
      "0s - loss: 6.8866 - mean_absolute_error: 1.8412\n",
      "Epoch 35/100\n",
      "0s - loss: 6.8209 - mean_absolute_error: 1.8631\n",
      "Epoch 36/100\n",
      "0s - loss: 6.8009 - mean_absolute_error: 1.8517\n",
      "Epoch 37/100\n",
      "0s - loss: 6.7505 - mean_absolute_error: 1.8350\n",
      "Epoch 38/100\n",
      "0s - loss: 6.5785 - mean_absolute_error: 1.8215\n",
      "Epoch 39/100\n",
      "0s - loss: 6.5340 - mean_absolute_error: 1.8146\n",
      "Epoch 40/100\n",
      "0s - loss: 6.3520 - mean_absolute_error: 1.7848\n",
      "Epoch 41/100\n",
      "0s - loss: 6.3957 - mean_absolute_error: 1.7810\n",
      "Epoch 42/100\n",
      "0s - loss: 6.2755 - mean_absolute_error: 1.7771\n",
      "Epoch 43/100\n",
      "0s - loss: 6.4952 - mean_absolute_error: 1.8183\n",
      "Epoch 44/100\n",
      "0s - loss: 6.2234 - mean_absolute_error: 1.7375\n",
      "Epoch 45/100\n",
      "0s - loss: 6.0606 - mean_absolute_error: 1.7505\n",
      "Epoch 46/100\n",
      "0s - loss: 6.1227 - mean_absolute_error: 1.7543\n",
      "Epoch 47/100\n",
      "0s - loss: 6.1870 - mean_absolute_error: 1.7582\n",
      "Epoch 48/100\n",
      "0s - loss: 6.0769 - mean_absolute_error: 1.7423\n",
      "Epoch 49/100\n",
      "0s - loss: 6.0237 - mean_absolute_error: 1.7283\n",
      "Epoch 50/100\n",
      "0s - loss: 6.0138 - mean_absolute_error: 1.7395\n",
      "Epoch 51/100\n",
      "0s - loss: 5.7650 - mean_absolute_error: 1.6987\n",
      "Epoch 52/100\n",
      "0s - loss: 5.7947 - mean_absolute_error: 1.6944\n",
      "Epoch 53/100\n",
      "0s - loss: 5.6810 - mean_absolute_error: 1.6723\n",
      "Epoch 54/100\n",
      "0s - loss: 5.5596 - mean_absolute_error: 1.6847\n",
      "Epoch 55/100\n",
      "0s - loss: 5.7476 - mean_absolute_error: 1.6981\n",
      "Epoch 56/100\n",
      "0s - loss: 5.5794 - mean_absolute_error: 1.6719\n",
      "Epoch 57/100\n",
      "0s - loss: 5.6590 - mean_absolute_error: 1.6452\n",
      "Epoch 58/100\n",
      "0s - loss: 5.4880 - mean_absolute_error: 1.6502\n",
      "Epoch 59/100\n",
      "0s - loss: 5.5270 - mean_absolute_error: 1.6509\n",
      "Epoch 60/100\n",
      "0s - loss: 5.5818 - mean_absolute_error: 1.6413\n",
      "Epoch 61/100\n",
      "0s - loss: 5.5202 - mean_absolute_error: 1.6671\n",
      "Epoch 62/100\n",
      "0s - loss: 5.4102 - mean_absolute_error: 1.6352\n",
      "Epoch 63/100\n",
      "0s - loss: 5.3334 - mean_absolute_error: 1.6405\n",
      "Epoch 64/100\n",
      "0s - loss: 5.2991 - mean_absolute_error: 1.6455\n",
      "Epoch 65/100\n",
      "0s - loss: 5.2274 - mean_absolute_error: 1.6020\n",
      "Epoch 66/100\n",
      "0s - loss: 5.3952 - mean_absolute_error: 1.6499\n",
      "Epoch 67/100\n",
      "0s - loss: 5.3018 - mean_absolute_error: 1.6467\n",
      "Epoch 68/100\n",
      "0s - loss: 5.2048 - mean_absolute_error: 1.5964\n",
      "Epoch 69/100\n",
      "0s - loss: 5.1179 - mean_absolute_error: 1.6199\n",
      "Epoch 70/100\n",
      "0s - loss: 4.9555 - mean_absolute_error: 1.5774\n",
      "Epoch 71/100\n",
      "0s - loss: 4.9479 - mean_absolute_error: 1.5497\n",
      "Epoch 72/100\n",
      "0s - loss: 4.8751 - mean_absolute_error: 1.5636\n",
      "Epoch 73/100\n",
      "0s - loss: 4.8921 - mean_absolute_error: 1.6029\n",
      "Epoch 74/100\n",
      "0s - loss: 4.7405 - mean_absolute_error: 1.5475\n",
      "Epoch 75/100\n",
      "0s - loss: 4.9145 - mean_absolute_error: 1.5649\n",
      "Epoch 76/100\n",
      "0s - loss: 4.9422 - mean_absolute_error: 1.6233\n",
      "Epoch 77/100\n",
      "0s - loss: 4.7182 - mean_absolute_error: 1.5036\n",
      "Epoch 78/100\n",
      "0s - loss: 4.6719 - mean_absolute_error: 1.5589\n",
      "Epoch 79/100\n",
      "0s - loss: 4.7997 - mean_absolute_error: 1.5882\n",
      "Epoch 80/100\n",
      "0s - loss: 4.5981 - mean_absolute_error: 1.4909\n",
      "Epoch 81/100\n",
      "0s - loss: 4.8035 - mean_absolute_error: 1.5501\n",
      "Epoch 82/100\n",
      "0s - loss: 4.6336 - mean_absolute_error: 1.5354\n",
      "Epoch 83/100\n",
      "0s - loss: 4.6768 - mean_absolute_error: 1.5277\n",
      "Epoch 84/100\n",
      "0s - loss: 4.7014 - mean_absolute_error: 1.5375\n",
      "Epoch 85/100\n",
      "0s - loss: 4.4063 - mean_absolute_error: 1.4805\n",
      "Epoch 86/100\n",
      "0s - loss: 4.6417 - mean_absolute_error: 1.5361\n",
      "Epoch 87/100\n",
      "0s - loss: 4.6691 - mean_absolute_error: 1.5291\n",
      "Epoch 88/100\n",
      "0s - loss: 4.5976 - mean_absolute_error: 1.4942\n",
      "Epoch 89/100\n",
      "0s - loss: 4.3103 - mean_absolute_error: 1.4607\n",
      "Epoch 90/100\n",
      "0s - loss: 4.5073 - mean_absolute_error: 1.4880\n",
      "Epoch 91/100\n",
      "0s - loss: 4.4178 - mean_absolute_error: 1.4820\n",
      "Epoch 92/100\n",
      "0s - loss: 4.4150 - mean_absolute_error: 1.4887\n",
      "Epoch 93/100\n",
      "0s - loss: 4.3262 - mean_absolute_error: 1.4598\n",
      "Epoch 94/100\n",
      "0s - loss: 4.2801 - mean_absolute_error: 1.5047\n",
      "Epoch 95/100\n",
      "0s - loss: 4.4415 - mean_absolute_error: 1.4857\n",
      "Epoch 96/100\n",
      "0s - loss: 4.1984 - mean_absolute_error: 1.4759\n",
      "Epoch 97/100\n",
      "0s - loss: 4.3480 - mean_absolute_error: 1.5115\n",
      "Epoch 98/100\n",
      "0s - loss: 4.2271 - mean_absolute_error: 1.4919\n",
      "Epoch 99/100\n",
      "0s - loss: 4.1154 - mean_absolute_error: 1.4456\n",
      "Epoch 100/100\n",
      "0s - loss: 4.0559 - mean_absolute_error: 1.3961\n"
     ]
    },
    {
     "data": {
      "text/plain": [
       "<keras.callbacks.History at 0x2311aee3ba8>"
      ]
     },
     "execution_count": 5,
     "metadata": {},
     "output_type": "execute_result"
    }
   ],
   "source": [
    "model.fit(x_train, y_train, epochs=100, batch_size=1, verbose=2)"
   ]
  },
  {
   "cell_type": "markdown",
   "metadata": {},
   "source": [
    "# Оценка точности работы сети"
   ]
  },
  {
   "cell_type": "code",
   "execution_count": 6,
   "metadata": {
    "collapsed": true
   },
   "outputs": [],
   "source": [
    "mse, mae = model.evaluate(x_test, y_test, verbose=0)"
   ]
  },
  {
   "cell_type": "code",
   "execution_count": 7,
   "metadata": {},
   "outputs": [
    {
     "name": "stdout",
     "output_type": "stream",
     "text": [
      "Средняя абсолютная ошибка (тысяч долларов): 2.30699792563\n"
     ]
    }
   ],
   "source": [
    "print(\"Средняя абсолютная ошибка (тысяч долларов):\", mae)"
   ]
  },
  {
   "cell_type": "markdown",
   "metadata": {},
   "source": [
    "# Использование сети для предсказания цен недвижимости"
   ]
  },
  {
   "cell_type": "code",
   "execution_count": 8,
   "metadata": {
    "collapsed": true
   },
   "outputs": [],
   "source": [
    "pred = model.predict(x_test)"
   ]
  },
  {
   "cell_type": "code",
   "execution_count": 9,
   "metadata": {},
   "outputs": [
    {
     "name": "stdout",
     "output_type": "stream",
     "text": [
      "Предсказанная стоимость: 17.8992 , правильная стоимость: 18.8\n"
     ]
    }
   ],
   "source": [
    "print(\"Предсказанная стоимость:\", pred[1][0], \", правильная стоимость:\", y_test[1])"
   ]
  }
 ],
 "metadata": {
  "kernelspec": {
   "display_name": "Python 3",
   "language": "python",
   "name": "python3"
  },
  "language_info": {
   "codemirror_mode": {
    "name": "ipython",
    "version": 3
   },
   "file_extension": ".py",
   "mimetype": "text/x-python",
   "name": "python",
   "nbconvert_exporter": "python",
   "pygments_lexer": "ipython3",
   "version": "3.6.1"
  }
 },
 "nbformat": 4,
 "nbformat_minor": 2
}
